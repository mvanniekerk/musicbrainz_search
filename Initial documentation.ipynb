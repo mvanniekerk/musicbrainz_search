{
 "cells": [
  {
   "cell_type": "markdown",
   "metadata": {},
   "source": [
    "### installation guide\n",
    "First I needed the postgresql database from musicbrainz. It turned out the documentation for setting up the server was quite a bit behind. However, after some trial and error, I found a good way to set up the database:\n",
    "\n",
    "follow [the musicbrainz documentation](https://musicbrainz.org/doc/MusicBrainz_Server/Setup) until accessing the database.\n",
    "\n",
    "To get access to the virtual machine, log in (or ssh `ssh -p 2222 vagrant@localhost`) with username `vagrant` and password `vagrant`.\n",
    "\n",
    "Docker is not configured to expose the database by default. To change the configuration, diff the following lines to `musicbrainz/musicbrainz-docker/docker-compose.yml`\n",
    "\n",
    "```\n",
    "14,15d13\n",
    "<     ports:\n",
    "<       - \"5432:5432\"\n",
    "20a19,20\n",
    ">     expose:\n",
    ">       - \"5432\"\n",
    "```\n",
    "\n",
    "Now, in virtualbox, port forward (settings -> network -> advanced -> port forwarding) port 5432. This enables you to connect to the postgres database from your host machine.\n",
    "\n",
    "After this, you can connect with user `musicbrainz` with password `musicbrainz` on your host machine (for example with `psql -h localhost -U musicbrainz -p 5432`)"
   ]
  },
  {
   "cell_type": "code",
   "execution_count": 1,
   "metadata": {
    "collapsed": true
   },
   "outputs": [],
   "source": [
    "import psycopg2\n",
    "\n",
    "conn = psycopg2.connect(user=\"musicbrainz\", password=\"musicbrainz\")"
   ]
  },
  {
   "cell_type": "markdown",
   "metadata": {},
   "source": [
    "One of the main early objectives of this project is to get all the aliases for a given composer (or other type of artist, since musicbrainz does not destinguish between the two).\n",
    "\n",
    "The function below shows a simple implementation of this."
   ]
  },
  {
   "cell_type": "code",
   "execution_count": 2,
   "metadata": {},
   "outputs": [
    {
     "data": {
      "text/plain": [
       "{'Alexander Zemlinsky',\n",
       " 'Alexander von Zemlinsky',\n",
       " 'Zemlinksy',\n",
       " 'Zemlinsky',\n",
       " 'ツェムリンスキー'}"
      ]
     },
     "execution_count": 2,
     "metadata": {},
     "output_type": "execute_result"
    }
   ],
   "source": [
    "def get_aliases(person):\n",
    "    '''\n",
    "    Gets all the aliases for a given person by querying both the artist_credit_name\n",
    "    table and the artist_alias table. The function throws away duplicates by returning\n",
    "    the result as a set.\n",
    "    '''\n",
    "    with conn:\n",
    "        with conn.cursor() as curs:\n",
    "            curs.execute(\n",
    "                \"\"\"\n",
    "                select artist_credit_name.name \n",
    "                from artist\n",
    "                left join artist_credit_name on artist_credit_name.artist = artist.id \n",
    "                where artist.name = %s\n",
    "                \"\"\", [person]\n",
    "            )\n",
    "            credit_names = curs.fetchall()\n",
    "            credit_names = {name[0] for name in credit_names}\n",
    "\n",
    "            curs.execute(\n",
    "                \"\"\"select artist_alias.name \n",
    "                from artist\n",
    "                left join artist_alias on artist.id = artist_alias.artist \n",
    "                where artist.name = %s\"\"\", [person]\n",
    "            )\n",
    "\n",
    "            aliases = curs.fetchall()\n",
    "            aliases = {name[0] for name in aliases}\n",
    "\n",
    "            return credit_names | aliases\n",
    "\n",
    "get_aliases('Alexander von Zemlinsky')\n",
    "        \n",
    "    "
   ]
  },
  {
   "cell_type": "markdown",
   "metadata": {},
   "source": [
    "As you can see, the list of aliases contains multiple different spellings of Zemlinsky.\n",
    "\n"
   ]
  },
  {
   "cell_type": "code",
   "execution_count": 3,
   "metadata": {},
   "outputs": [
    {
     "data": {
      "text/plain": [
       "{'English Classical Players',\n",
       " 'Johannes Chrysostomus Wolfgangus Theophilus Mozart',\n",
       " 'Mosart',\n",
       " 'Mozart',\n",
       " 'Volfgangs Amadejs Mocarts',\n",
       " 'W A Mozart',\n",
       " 'W. A. Mozart',\n",
       " 'W. A. Mozart/Arr. by Nova',\n",
       " 'W. Amadeus Mozart',\n",
       " 'W.-A. Mozart',\n",
       " 'W.A Mozart',\n",
       " 'W.A. Mozart',\n",
       " 'W.A.Mozart',\n",
       " 'WA Mozart',\n",
       " 'WA. Mozart',\n",
       " 'Wolfang A. Mozart',\n",
       " 'Wolfang Amadeus Mozart',\n",
       " 'Wolfgan Amadeus Mozart',\n",
       " 'Wolfgang A. Mozart',\n",
       " 'Wolfgang Amade Mozart',\n",
       " 'Wolfgang Amadeaus Mozart',\n",
       " 'Wolfgang Amadeus Mozart',\n",
       " 'Wolfgang Amadeus Mozart (1756-1791)',\n",
       " 'Wolfgang Amadues Mozart',\n",
       " 'Wolfgang Amedeus Mozart',\n",
       " 'Wolfgang Anadeus Mozart',\n",
       " 'Wolfgang Armadeus Mozart',\n",
       " 'Wolfgang Mozart',\n",
       " 'mozart',\n",
       " 'Вольфганг Амадей Моцарт',\n",
       " 'Моцарт',\n",
       " 'モーツァルト',\n",
       " 'ヴォルフガンク・アマデウス・モーツァルト',\n",
       " '볼프강 아마데우스 모짜르트'}"
      ]
     },
     "execution_count": 3,
     "metadata": {},
     "output_type": "execute_result"
    }
   ],
   "source": [
    "get_aliases('Wolfgang Amadeus Mozart')"
   ]
  },
  {
   "cell_type": "markdown",
   "metadata": {},
   "source": [
    "Using a more well known composer as input gives even more useful results."
   ]
  },
  {
   "cell_type": "markdown",
   "metadata": {},
   "source": [
    "### Creating a searchable database from these queries\n",
    "De volgende stap is het verzamelen van deze data voor alle artiesten in de database en die vervolgens doorzoekbaar te maken. Cynthia stelde voor om de aliases om te zetten naar n-grams (als ik het goed heb begrepen). Deze resultaten zijn over het algemeen echter zo kort dat het mij persoonlijk beter lijkt om eerst een simpelere aanpak te gebruiken en de aliases allemaal bij elkaar te halen en vervolgens te tokenizen (op spaties, punten en een aantal andere leestekens, zoals '/'). Vervolgens zijn er voor iedere persoon dus een aantal woorden die daarmee corresponderen. Die woorden worden de zoektermen in de database. Oftewel, een [bag of words met Tf-idf (term frequency, inverse document frequency)](https://nlp.stanford.edu/IR-book/html/htmledition/term-frequency-and-weighting-1.html). \n",
    "\n",
    "Vervolgens kan de artiesten zoek database makkelijk worden uitgebreid met de lijst van werken en de lijst van cd's in de database. Dezelfde bag of words kan namelijk ook worden toegepast op cd's en werken. Waar iedere afzonderlijke bag een lijst is met de naam en alias van de componist, de uitvoerders en alle relevante informatie van het werk en de cd zelf. Ik verwacht dat je daarmee al heel veel relevante data kan krijgen. Het is dan zelfs mogelijk om bijvoorbeeld de metadata van de componist zwaarder te laten wegen dan de metadata van de cd of omgekeerd via [weighted zone scoring](https://nlp.stanford.edu/IR-book/html/htmledition/weighted-zone-scoring-1.html). \n",
    "\n",
    "De volgende stap is spelling correctie op de individuele termen. Als dit is geimplementeerd en de resultaten nog niet relevant genoeg zijn kunnen we ook nog de positie van de zoektermen meenemen via n-grams.\n",
    "\n",
    "Ik hoop dat je dit plan van aanpak een goed idee vindt!"
   ]
  }
 ],
 "metadata": {
  "kernelspec": {
   "display_name": "Python 3",
   "language": "python",
   "name": "python3"
  },
  "language_info": {
   "codemirror_mode": {
    "name": "ipython",
    "version": 3
   },
   "file_extension": ".py",
   "mimetype": "text/x-python",
   "name": "python",
   "nbconvert_exporter": "python",
   "pygments_lexer": "ipython3",
   "version": "3.6.2"
  }
 },
 "nbformat": 4,
 "nbformat_minor": 2
}
