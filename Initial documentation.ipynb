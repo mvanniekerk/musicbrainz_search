{
 "cells": [
  {
   "cell_type": "markdown",
   "metadata": {},
   "source": [
    "### installation guide\n",
    "First I needed the postgresql database from musicbrainz. It turned out the documentation for setting up the server was quite a bit behind. However, after some trial and error, I found a good way to set up the database:\n",
    "\n",
    "follow [the musicbrainz documentation](https://musicbrainz.org/doc/MusicBrainz_Server/Setup) until accessing the database.\n",
    "\n",
    "To get access to the virtual machine, log in (or ssh `ssh -p 2222 vagrant@localhost`) with username `vagrant` and password `vagrant`.\n",
    "\n",
    "Docker is not configured to expose the database by default. To change the configuration, diff the following lines to `musicbrainz/musicbrainz-docker/docker-compose.yml`\n",
    "\n",
    "```\n",
    "14,15d13\n",
    "<     ports:\n",
    "<       - \"5432:5432\"\n",
    "20a19,20\n",
    ">     expose:\n",
    ">       - \"5432\"\n",
    "```\n",
    "\n",
    "Now, in virtualbox, port forward (settings -> network -> advanced -> port forwarding) port 5432. This enables you to connect to the postgres database from your host machine.\n",
    "\n",
    "After this, you can connect with user `musicbrainz` with password `musicbrainz` on your host machine (for example with `psql -h localhost -U musicbrainz -p 5432`)"
   ]
  },
  {
   "cell_type": "code",
   "execution_count": 1,
   "metadata": {
    "collapsed": true
   },
   "outputs": [],
   "source": [
    "import psycopg2\n",
    "\n",
    "conn = psycopg2.connect(user=\"musicbrainz\", password=\"musicbrainz\")"
   ]
  },
  {
   "cell_type": "markdown",
   "metadata": {},
   "source": [
    "One of the main early objectives of this project is to get all the aliases for a given composer (or other type of artist, since musicbrainz does not destinguish between the two).\n",
    "\n",
    "The function below shows a simple implementation of this."
   ]
  },
  {
   "cell_type": "code",
   "execution_count": 2,
   "metadata": {},
   "outputs": [
    {
     "data": {
      "text/plain": [
       "{'Alexander Zemlinsky',\n",
       " 'Alexander von Zemlinsky',\n",
       " 'Zemlinksy',\n",
       " 'Zemlinsky',\n",
       " 'ツェムリンスキー'}"
      ]
     },
     "execution_count": 2,
     "metadata": {},
     "output_type": "execute_result"
    }
   ],
   "source": [
    "def get_aliases(person):\n",
    "    '''\n",
    "    Gets all the aliases for a given person by querying both the artist_credit_name\n",
    "    table and the artist_alias table. The function throws away duplicates by returning\n",
    "    the result as a set.\n",
    "    '''\n",
    "    with conn:\n",
    "        with conn.cursor() as curs:\n",
    "            curs.execute(\n",
    "                \"\"\"\n",
    "                select artist_credit_name.name \n",
    "                from artist\n",
    "                left join artist_credit_name on artist_credit_name.artist = artist.id \n",
    "                where artist.name = %s\n",
    "                \"\"\", [person]\n",
    "            )\n",
    "            credit_names = curs.fetchall()\n",
    "            credit_names = {name[0] for name in credit_names}\n",
    "\n",
    "            curs.execute(\n",
    "                \"\"\"\n",
    "                select artist_alias.name \n",
    "                from artist\n",
    "                left join artist_alias on artist.id = artist_alias.artist \n",
    "                where artist.name = %s\n",
    "                \"\"\", [person]\n",
    "            )\n",
    "\n",
    "            aliases = curs.fetchall()\n",
    "            aliases = {name[0] for name in aliases}\n",
    "\n",
    "            return credit_names | aliases\n",
    "\n",
    "get_aliases('Alexander von Zemlinsky')   \n",
    "    "
   ]
  },
  {
   "cell_type": "markdown",
   "metadata": {},
   "source": [
    "As you can see, the list of aliases contains multiple different spellings of Zemlinsky.\n",
    "\n"
   ]
  },
  {
   "cell_type": "code",
   "execution_count": 3,
   "metadata": {},
   "outputs": [
    {
     "data": {
      "text/plain": [
       "{'English Classical Players',\n",
       " 'Johannes Chrysostomus Wolfgangus Theophilus Mozart',\n",
       " 'Mosart',\n",
       " 'Mozart',\n",
       " 'Volfgangs Amadejs Mocarts',\n",
       " 'W A Mozart',\n",
       " 'W. A. Mozart',\n",
       " 'W. A. Mozart/Arr. by Nova',\n",
       " 'W. Amadeus Mozart',\n",
       " 'W.-A. Mozart',\n",
       " 'W.A Mozart',\n",
       " 'W.A. Mozart',\n",
       " 'W.A.Mozart',\n",
       " 'WA Mozart',\n",
       " 'WA. Mozart',\n",
       " 'Wolfang A. Mozart',\n",
       " 'Wolfang Amadeus Mozart',\n",
       " 'Wolfgan Amadeus Mozart',\n",
       " 'Wolfgang A. Mozart',\n",
       " 'Wolfgang Amade Mozart',\n",
       " 'Wolfgang Amadeaus Mozart',\n",
       " 'Wolfgang Amadeus Mozart',\n",
       " 'Wolfgang Amadeus Mozart (1756-1791)',\n",
       " 'Wolfgang Amadues Mozart',\n",
       " 'Wolfgang Amedeus Mozart',\n",
       " 'Wolfgang Anadeus Mozart',\n",
       " 'Wolfgang Armadeus Mozart',\n",
       " 'Wolfgang Mozart',\n",
       " 'mozart',\n",
       " 'Вольфганг Амадей Моцарт',\n",
       " 'Моцарт',\n",
       " 'モーツァルト',\n",
       " 'ヴォルフガンク・アマデウス・モーツァルト',\n",
       " '볼프강 아마데우스 모짜르트'}"
      ]
     },
     "execution_count": 3,
     "metadata": {},
     "output_type": "execute_result"
    }
   ],
   "source": [
    "get_aliases('Wolfgang Amadeus Mozart')"
   ]
  },
  {
   "cell_type": "markdown",
   "metadata": {},
   "source": [
    "Using a more well known composer as input gives even more useful results.\n",
    "\n",
    "The list with all possible aliases for a composer seems like the only necessary input data. We could construct a hypothetical function that takes a name as input that can be any alias in the database, and returns the id of the composer in the database."
   ]
  },
  {
   "cell_type": "markdown",
   "metadata": {},
   "source": [
    "### Creating a searchable database from these queries\n",
    "De volgende stap is het verzamelen van deze data voor alle artiesten in de database en die vervolgens doorzoekbaar te maken. Cynthia stelde voor om de aliases om te zetten naar n-grams (als ik het goed heb begrepen). Deze resultaten zijn over het algemeen echter zo kort dat het mij persoonlijk beter lijkt om eerst een simpelere aanpak te gebruiken en de aliases allemaal bij elkaar te halen en vervolgens te tokenizen (op spaties, punten en een aantal andere leestekens, zoals '/'). Vervolgens zijn er voor iedere persoon dus een aantal woorden die daarmee corresponderen. Die woorden worden de zoektermen in de database. Oftewel, een [bag of words met Tf-idf (term frequency, inverse document frequency)](https://nlp.stanford.edu/IR-book/html/htmledition/term-frequency-and-weighting-1.html). \n",
    "\n",
    "Vervolgens kan de artiesten zoek database makkelijk worden uitgebreid met de lijst van werken en de lijst van cd's in de database. Dezelfde bag of words kan namelijk ook worden toegepast op cd's en werken. Waar iedere afzonderlijke bag een lijst is met de naam en alias van de componist, de uitvoerders en alle relevante informatie van het werk en de cd zelf. Ik verwacht dat je daarmee al heel veel relevante data kan krijgen. Het is dan zelfs mogelijk om bijvoorbeeld de metadata van de componist zwaarder te laten wegen dan de metadata van de cd of omgekeerd via [weighted zone scoring](https://nlp.stanford.edu/IR-book/html/htmledition/weighted-zone-scoring-1.html). \n",
    "\n",
    "De volgende stap is spelling correctie op de individuele termen. Als dit is geimplementeerd en de resultaten nog niet relevant genoeg zijn kunnen we ook nog de positie van de zoektermen meenemen via n-grams.\n",
    "\n",
    "Ik hoop dat je dit plan van aanpak een goed idee vindt!"
   ]
  },
  {
   "cell_type": "markdown",
   "metadata": {},
   "source": [
    "The Artist database is a very useful resource for composer search. However, I would also like to search for individual works. the work database seems to be the most useful for this purpose (other contenders being Releases and Recordings). Just like the artist database, a useful table is the \"alias\" table. Besides that, two other tables are relevant, l_artist_to_work (which relates artists to works) and l_work_to_recording"
   ]
  },
  {
   "cell_type": "code",
   "execution_count": 4,
   "metadata": {},
   "outputs": [
    {
     "data": {
      "text/plain": [
       "[(12834141,\n",
       "  'Concerto no. 1 for Piano and Orchestra, op. 7: II. Allegretto Pastorale',\n",
       "  'Robert Muczynski'),\n",
       " (12834142,\n",
       "  'Concerto no. 1 for Piano and Orchestra, op. 7: III. Vivace',\n",
       "  'Robert Muczynski'),\n",
       " (12834143, 'A Serenade for Summer, op. 38', 'Robert Muczynski'),\n",
       " (12834144, 'Suite, op. 13: I. Festival', 'Robert Muczynski'),\n",
       " (12834145, 'Suite, op. 13: II. Flight', 'Robert Muczynski'),\n",
       " (12834146, 'Suite, op. 13: III. Vision', 'Robert Muczynski'),\n",
       " (12834147, 'Suite, op. 13: IV. Labyrinth', 'Robert Muczynski'),\n",
       " (12834148, 'Suite, op. 13: V. Phantom', 'Robert Muczynski'),\n",
       " (12834149, 'Suite, op. 13: VI. Scherzo', 'Robert Muczynski'),\n",
       " (12834150,\n",
       "  'Concerto no. 1 for Piano and Orchestra, op. 7',\n",
       "  'Robert Muczynski'),\n",
       " (12834151, 'Suite, op. 13', 'Robert Muczynski'),\n",
       " (12834152,\n",
       "  'Quintet for Winds, op. 45: I. Allegro risoluto',\n",
       "  'Robert Muczynski'),\n",
       " (12834153, 'Quintet for Winds, op. 45: II. Andante', 'Robert Muczynski'),\n",
       " (12834154,\n",
       "  'Quintet for Winds, op. 45: III. Moderato - Allegro con spirito',\n",
       "  'Robert Muczynski'),\n",
       " (12834155,\n",
       "  'Duos for Flutes, op. 34: I. Andante sostenuto',\n",
       "  'Robert Muczynski'),\n",
       " (12834156,\n",
       "  'Duos for Flutes, op. 34: II. Allegro risoluto',\n",
       "  'Robert Muczynski'),\n",
       " (12834157, 'Duos for Flutes, op. 34: III. Moderato', 'Robert Muczynski'),\n",
       " (12834158,\n",
       "  'Duos for Flutes, op. 34: IV. Allegro ma non troppo',\n",
       "  'Robert Muczynski'),\n",
       " (12834159, 'Duos for Flutes, op. 34: V. Andante molto', 'Robert Muczynski'),\n",
       " (12834160, 'Duos for Flutes, op. 34: VI. Allegro', 'Robert Muczynski'),\n",
       " (12834161,\n",
       "  'Moments for Flute and Piano, op. 47: I. Allegro',\n",
       "  'Robert Muczynski'),\n",
       " (12834162,\n",
       "  'Moments for Flute and Piano, op. 47: II. Andante sostenuto',\n",
       "  'Robert Muczynski'),\n",
       " (12834163,\n",
       "  'Moments for Flute and Piano, op. 47: III. Allegro con spirito',\n",
       "  'Robert Muczynski'),\n",
       " (12834164, 'Fragments for Woodwind Trio: I. Waltz', 'Robert Muczynski')]"
      ]
     },
     "execution_count": 4,
     "metadata": {},
     "output_type": "execute_result"
    }
   ],
   "source": [
    "def get_works(person, with_type=False):\n",
    "    with conn:\n",
    "        with conn.cursor() as curs:\n",
    "            if with_type:\n",
    "                curs.execute(\n",
    "                    \"\"\"\n",
    "                    select work.name, work_type.name, artist.name from work \n",
    "                    left join l_artist_work on entity1=work.id \n",
    "                    left join artist on entity0=artist.id \n",
    "                    left join work_type on work.type=work_type.id \n",
    "                    where artist.name = %s;\n",
    "                    \"\"\", [person]\n",
    "                )\n",
    "            else:\n",
    "                curs.execute(\n",
    "                    \"\"\"\n",
    "                    select work.id, work.name, artist.name from work \n",
    "                    left join l_artist_work on entity1=work.id \n",
    "                    left join artist on entity0=artist.id \n",
    "                    where artist.name = %s;\n",
    "                    \"\"\", [person]\n",
    "                )\n",
    "            works = curs.fetchall()\n",
    "            \n",
    "            return works\n",
    "        \n",
    "        \n",
    "get_works('Robert Muczynski')[1:25]"
   ]
  },
  {
   "cell_type": "code",
   "execution_count": 5,
   "metadata": {},
   "outputs": [
    {
     "data": {
      "text/plain": [
       "{'6 Suiten für Violoncello Solo: Suite I G-dur, BWV 1007: VI. Gigue',\n",
       " 'BWV 1007 - No.1 - Gigue',\n",
       " 'Cello Suite No. 1 in G Major, BWV 1007: VI. Gigue',\n",
       " 'Cello Suite No. 1 in G major, BWV 1007: Gigue',\n",
       " 'Cello Suite No. 1 in G major, BWV 1007: VI. Gigue',\n",
       " 'Cello Suite no. 1 in G Dur, BWV 1007: VI. Gigue',\n",
       " 'Cello Suite no. 1 in G Major, BWV 1007: VI. Gigue',\n",
       " 'Cello Suite no. 1 in G major, BWV 1007: Gigue',\n",
       " 'Cello Suite no. 1 in G major, BWV 1007: VI. Gigue',\n",
       " 'Cello Suite no. 1 in G, BWV 1007: VI. Gigue',\n",
       " 'Cello Suite no. 1 in G-major (transcribed to D major), BWV 1007: VI. Gigue',\n",
       " 'Cello suite No. 1 in G major, BWV 1007: VI. Gigue',\n",
       " 'Gigue',\n",
       " 'Gigue - Suite No.1 BWV 1007',\n",
       " 'Gigue no1 in g, BWV 1007',\n",
       " 'Suite 1 : Gigue',\n",
       " 'Suite I en Sol majeur: Guigue',\n",
       " 'Suite I in G major, BWV 1007: Gigue',\n",
       " 'Suite I, BWV 1007: VI. Gigue',\n",
       " 'Suite NR. 1 G-DUR, BWV 1007 - Gigue',\n",
       " 'Suite No. 1 - Gigue',\n",
       " 'Suite No. 1 G-Dur, BWV 1007: VI. Gigue',\n",
       " 'Suite No. 1 en G majeur, BWV 1007: VI. Gigue',\n",
       " 'Suite No. 1 en sol majeur, BWV 1007 : VI. Gigue',\n",
       " 'Suite No. 1 for Violoncello Solo in G major, BWV 1007: VII. Gigue',\n",
       " 'Suite No. 1 for solo cello in G, BWV 1007: Gigue',\n",
       " 'Suite No. 1 in A Major: VI. Gigue',\n",
       " 'Suite No. 1 in G Major BWV 1007: Gigue',\n",
       " 'Suite No. 1 in G major, BWV 1007: VI. Gigue',\n",
       " 'Suite No. 1 in G major, BWV 1007: VII. Gigue',\n",
       " 'Suite No. 1, BWV 1007: VI. Gigue',\n",
       " 'Suite Nr. 1 in G-Dur für Violoncello solo: Gigue',\n",
       " 'Suite Nº 1 in G Major BWV 1007: VI. Gigue',\n",
       " 'Suite for Solo Cello No. 1 in G major: VI. Gigue',\n",
       " 'Suite for Solo Cello no. 1 in G major, BWV 1007: VI. Gigue',\n",
       " 'Suite for Solo Cello no. 1 in G major, BWV 1007: VII. Gigue',\n",
       " 'Suite for solo cello No. 1 in G major, BWV 1007: Gigue',\n",
       " 'Suite for solo cello No. 1 in G major, BWV 1007: VII. Gigue',\n",
       " 'Suite für Cello Nr. 1 G-dur, BWV 1007: VI. Gigue',\n",
       " 'Suite für Violoncello solo No. 1 G-Dur, BWV 1007: Gigue',\n",
       " 'Suite für Violoncello solo Nr. 1 G-Dur, BWV 1007: 6. Gigue',\n",
       " 'Suite für Violoncello solo no. 1 G-Dur, BWV 1007: VI. Gigue',\n",
       " 'Suite in G major (BWV 1007): VIII. Gigue',\n",
       " 'Suite no. 1 em sol maior, BWV 1007: VI. Giga',\n",
       " 'Suite no. 1 for Cello Solo in G major, BWV 1007: Gigue',\n",
       " 'Suite no. 1 in G Major for Solo Cello, BWV 1007: VI. Gigue',\n",
       " 'Suite no. 1 in G Major, BWV 1007: VI. Gigue',\n",
       " 'Suite no. 1 in G major BWV 1007: VI. Gigue',\n",
       " 'Suite no. 1 in G major, BWV 1007: Gigue',\n",
       " 'Suite no. 1 in G major, BWV 1007: VI. Gigue',\n",
       " 'Suite no. 1 in G major: Gigue',\n",
       " 'Suite no. 1, BWV 1007: VI. Gigue',\n",
       " 'Suite n° 1 en sol majeur, BWV 1007: Gigue',\n",
       " 'Suite n°1 en Sol majeur / G major / G-dur BWV 1007: VI. Gigue',\n",
       " 'Suite n°1 pour violoncelle seul: Gigue',\n",
       " 'Suite per violoncello n1 in sol maggiore BWV 1007 Giga',\n",
       " 'Suite pour violoncelle no. 1 en sol majeur BWV1007: Gigue',\n",
       " 'Suite №1 in G major (para cello), BWV 1007: VI. Gigue',\n",
       " 'Suite №1 in G major, BWV 1007: VI. Gigue',\n",
       " 'Suite, No. 1 en Sol majeur, BWV 1007: VI. Gigue',\n",
       " 'Suitte 1re [sol majeur, BWV 1007]: VI. Gique'}"
      ]
     },
     "execution_count": 5,
     "metadata": {},
     "output_type": "execute_result"
    }
   ],
   "source": [
    "def get_work_names(work_id):\n",
    "    with conn:\n",
    "        with conn.cursor() as curs:\n",
    "            curs.execute(\n",
    "                \"\"\"\n",
    "                select work.name from work\n",
    "                where work.id=%s\n",
    "                \"\"\", [work_id]\n",
    "            )\n",
    "            name = curs.fetchall()           \n",
    "            \n",
    "            curs.execute(\n",
    "                \"\"\"\n",
    "                select work_alias.name from work_alias \n",
    "                left join work on work.id=work_alias.work \n",
    "                where work.id=%s;\n",
    "                \"\"\", [work_id]\n",
    "            )\n",
    "            \n",
    "            aliases = {name[0] for name in curs.fetchall()}\n",
    "            \n",
    "            curs.execute(\n",
    "                \"\"\"\n",
    "                select recording.name from recording \n",
    "                left join l_recording_work on entity0=recording.id \n",
    "                left join work on entity1=work.id \n",
    "                left join artist_credit on artist_credit.id=artist_credit \n",
    "                where work.id=%s;\n",
    "                \"\"\", [work_id]\n",
    "            )\n",
    "            \n",
    "            recording_names = {name[0] for name in curs.fetchall()}\n",
    "            \n",
    "            names = aliases | recording_names\n",
    "            if name:\n",
    "                original_name = name[0][0]\n",
    "                return {original_name} | names\n",
    "            \n",
    "    return names\n",
    "        \n",
    "get_work_names(357993)\n",
    "    "
   ]
  },
  {
   "cell_type": "markdown",
   "metadata": {},
   "source": [
    "These aliases seem most useful in an \"unstructured document approach\"."
   ]
  },
  {
   "cell_type": "code",
   "execution_count": 6,
   "metadata": {},
   "outputs": [
    {
     "data": {
      "text/plain": [
       "{'Alexander Kniazev',\n",
       " 'Alexander Rudin',\n",
       " 'Ana Vidović',\n",
       " 'André Navarra',\n",
       " 'Anne Gastinel',\n",
       " 'Anner Bylsma',\n",
       " 'Antonio Janigro',\n",
       " 'Antônio Meneses',\n",
       " 'Barbara Westphal',\n",
       " 'Boris Pergamenschikow',\n",
       " 'Béatrice Reibel',\n",
       " 'Catherine Toulouse-Delpeuch',\n",
       " 'Csaba Onczay',\n",
       " 'Daniel Domb',\n",
       " 'Daniel Yeadon',\n",
       " 'David Geringas',\n",
       " 'David Watkin',\n",
       " 'Edgar Meyer',\n",
       " 'Erkki Rautio',\n",
       " 'Erling Blöndal Bengtsson',\n",
       " 'Evžen Rattay',\n",
       " 'Frédéric Dupuis',\n",
       " 'Gaspar Cassadó',\n",
       " 'Gavriel Lipkind',\n",
       " 'Guido Schiefen',\n",
       " 'Guy Danel',\n",
       " 'Heinrich Schiff',\n",
       " 'Hidemi Suzuki',\n",
       " 'Jaap ter Linden',\n",
       " 'Jacqueline du Pré',\n",
       " 'Jean‐Guihen Queyras',\n",
       " 'Jian Wang',\n",
       " 'Justin Pearson',\n",
       " 'János Starker',\n",
       " 'Jörg Baumann',\n",
       " 'Jörg Metzger, City of Prague Philharmonic Orchestra, James Fitzpatrick',\n",
       " 'Klaus-Peter Hahn',\n",
       " 'Laurie Haines Reese',\n",
       " 'Lillian Fuchs',\n",
       " 'Lluís Claret',\n",
       " 'Luigi Piovano',\n",
       " 'Lynn Harrell',\n",
       " 'Marc Coppey',\n",
       " 'Maria Kliegel',\n",
       " 'Mark Bernat',\n",
       " 'Matt Haimovitz',\n",
       " 'Matthieu Fontana',\n",
       " 'Maurice Gendron',\n",
       " 'Michael Goldschlager',\n",
       " 'Michael Kevin Jones',\n",
       " 'Mischa Maisky',\n",
       " 'Mstislav Rostropovich',\n",
       " 'Neymar Dias',\n",
       " 'Nikolaus Harnoncourt',\n",
       " 'Ophélie Gaillard',\n",
       " 'Paolo Beschi',\n",
       " 'Paolo Pandolfo',\n",
       " 'Pascal Monteilhet',\n",
       " 'Patrick O’Hearn',\n",
       " 'Pau Casals',\n",
       " 'Paul Tortelier',\n",
       " 'Pierre Fournier',\n",
       " 'Pieter Wispelwey',\n",
       " 'Quirine Viersen',\n",
       " 'Ralph Kirshbaum',\n",
       " 'Richard Tunnicliffe',\n",
       " 'Robert Cohen',\n",
       " 'Roel Dieltiens',\n",
       " 'Shunsuke Fujimura',\n",
       " 'Steven Isserlis',\n",
       " 'Thomas Demenga',\n",
       " 'Torleif Thedéen',\n",
       " 'Truls Mørk',\n",
       " 'Tsuyoshi Tsutsumi',\n",
       " 'Victor Yoran',\n",
       " 'Wieland Kuijken',\n",
       " 'William Orbit',\n",
       " 'Yo‐Yo Ma',\n",
       " 'Zuill Bailey',\n",
       " 'Zygmunt Kubala',\n",
       " '[unknown]',\n",
       " '鷺巣詩郎'}"
      ]
     },
     "execution_count": 6,
     "metadata": {},
     "output_type": "execute_result"
    }
   ],
   "source": [
    "def get_recordings(work_id):\n",
    "    with conn:\n",
    "        with conn.cursor() as curs:\n",
    "            curs.execute(\n",
    "                \"\"\"\n",
    "                select artist_credit.name from recording \n",
    "                left join l_recording_work on entity0=recording.id \n",
    "                left join work on entity1=work.id \n",
    "                left join artist_credit on artist_credit.id=artist_credit \n",
    "                where work.id=%s;\n",
    "                \"\"\", [work_id]\n",
    "            )\n",
    "            return {artist[0] for artist in curs.fetchall()}\n",
    "\n",
    "        \n",
    "get_recordings(3566296)"
   ]
  },
  {
   "cell_type": "markdown",
   "metadata": {},
   "source": [
    "One problem with this approach is that we find only the first artist associated with this recording. Most of the time however, this is not a problem since it is relatively rare for the database to have multiple artists associated with one recording."
   ]
  },
  {
   "cell_type": "code",
   "execution_count": 7,
   "metadata": {},
   "outputs": [
    {
     "data": {
      "text/plain": [
       "{'Alexandra Hawley, Robert Muczynski',\n",
       " 'Laurel Ann Maurer, Joanne Pearce Martin',\n",
       " 'Sanja Bizjak, Raquele Magalhães'}"
      ]
     },
     "execution_count": 7,
     "metadata": {},
     "output_type": "execute_result"
    }
   ],
   "source": [
    "get_recordings(12834183)"
   ]
  },
  {
   "cell_type": "markdown",
   "metadata": {},
   "source": [
    "Initially, when looking for the artists I joined the Artist table with the works table, but this gave some unexpected results: \n",
    "```\n",
    "[(16895616,\n",
    "  'Sonata, op. 14 for Flute and Piano: I. Allegro deciso',\n",
    "  'Dirty Dubsters'),\n",
    " (19744636, 'Sonate pour flûte et piano, op. 14: I. Allegro decisio', None),\n",
    " (1953121,\n",
    "  'Sonata for Flute and Piano, op. 14: I. Allegro deciso',\n",
    "  'Robin Grean')]\n",
    "```\n",
    "I doubt the \"Dirty Dubsters\" recorded Muczynski's flute sonata. Later I found out there exists an artist_credit table. With this it is possible to get all artists as a field that can be split on ', '. However, it is possible for this field to contain aliases instead of the \"official\" name of the artists. In the ideal case I would first get the artists of an recording, then get the artist id of this artist alias, then get all the aliases for the artist. This would require some more work."
   ]
  },
  {
   "cell_type": "code",
   "execution_count": 8,
   "metadata": {},
   "outputs": [
    {
     "data": {
      "text/plain": [
       "{'Robert Muczynski'}"
      ]
     },
     "execution_count": 8,
     "metadata": {},
     "output_type": "execute_result"
    }
   ],
   "source": [
    "def get_artist(work_id):\n",
    "    with conn:\n",
    "        with conn.cursor() as curs:\n",
    "            curs.execute(\n",
    "                \"\"\"\n",
    "                select artist.name from work \n",
    "                left join l_artist_work on entity1=work.id \n",
    "                left join artist on entity0=artist.id \n",
    "                where work.id = %s;\n",
    "                \"\"\", [work_id]\n",
    "            )\n",
    "            result = curs.fetchall()\n",
    "            if not result:\n",
    "                return {}\n",
    "        \n",
    "            return {artist[0] for artist in result}\n",
    "            \n",
    "get_artist(12834183)"
   ]
  },
  {
   "cell_type": "markdown",
   "metadata": {},
   "source": [
    "For searching for any work, I would like to get a record consisting of the title with all the aliases and the artist responsible for creating the work.\n",
    "\n",
    "After finding a work, I would like to find the musicbrainz ID of the work. I would like to be able to find information of all the recordings for this work. Also, I would like to find information about the work (if available) and about the composer (if available). Lastly, I would like to find sheet music (if available)."
   ]
  },
  {
   "cell_type": "code",
   "execution_count": 9,
   "metadata": {},
   "outputs": [
    {
     "data": {
      "text/plain": [
       "{'artists': {'Massive Attack', 'The Gino Marinello Acid House P.M. Section'},\n",
       " 'composers': {'Andrew Vowles',\n",
       "  'Billy Cobham',\n",
       "  'Grant Marshall',\n",
       "  'Robert Del Naja',\n",
       "  'Shara Nelson'},\n",
       " 'names': {'Safe From Harm',\n",
       "  'Safe From Harm (12\" mix)',\n",
       "  'Safe From Harm (12\" version)',\n",
       "  'Safe From Harm (7\" instrumental)',\n",
       "  'Safe From Harm (7\" mix)',\n",
       "  'Safe From Harm (7\" version)',\n",
       "  'Safe From Harm (Just a Dub mix)',\n",
       "  'Safe From Harm (Just a Dub)',\n",
       "  'Safe From Harm (Just a Groove dub)',\n",
       "  'Safe From Harm (Just a dub mix)',\n",
       "  'Safe From Harm (Just a dub)',\n",
       "  'Safe From Harm (Perfecto mix)',\n",
       "  'Safe From Harm (Perfecto remix)',\n",
       "  'Safe From Harm (instrumental)',\n",
       "  'Safe From Harm (original version)',\n",
       "  'Safe From Harm (original)',\n",
       "  'Safe from Harm',\n",
       "  'Save From Harm',\n",
       "  'Save from Harm'}}"
      ]
     },
     "execution_count": 9,
     "metadata": {},
     "output_type": "execute_result"
    }
   ],
   "source": [
    "def get_work_search_data(work_id):\n",
    "    return {\n",
    "        \"names\" : get_work_names(work_id),\n",
    "        \"composers\" : get_artist(work_id),\n",
    "        \"artists\" : get_recordings(work_id)\n",
    "    }\n",
    "\n",
    "get_work_search_data(19)"
   ]
  },
  {
   "cell_type": "markdown",
   "metadata": {},
   "source": [
    "Non classical songs bring their own additional difficulties. It is possible to have multiple different composers and it is very likely that the list of artists is more representative of the song than the list of composers (which is completely opposite from classical music)"
   ]
  },
  {
   "cell_type": "code",
   "execution_count": 10,
   "metadata": {
    "scrolled": false
   },
   "outputs": [
    {
     "name": "stdout",
     "output_type": "stream",
     "text": [
      "Wall time: 7.36 s\n"
     ]
    }
   ],
   "source": [
    "%%time\n",
    "\n",
    "def get_gid(work_id):\n",
    "    with conn:\n",
    "        with conn.cursor() as curs:\n",
    "            curs.execute(\"select gid from work where id=%s\", [work_id])\n",
    "            result = curs.fetchall()\n",
    "            if not result:\n",
    "                return result\n",
    "            return result[0][0]\n",
    "        \n",
    "\n",
    "def build_db():\n",
    "    work_search_db = {}\n",
    "\n",
    "    for work_id in range(1000, 2000):\n",
    "        gid = get_gid(work_id)\n",
    "        if gid:\n",
    "            data = get_work_search_data(work_id)\n",
    "            work_search_db[gid] = data\n",
    "            \n",
    "    return work_search_db\n",
    "\n",
    "build_db()"
   ]
  },
  {
   "cell_type": "markdown",
   "metadata": {},
   "source": [
    "The above computation takes about 8 seconds. The work table has 892038 rows. This would mean that just getting the results from the work part of the database takes two hours. This takes a long time, but is still in the acceptable range."
   ]
  }
 ],
 "metadata": {
  "kernelspec": {
   "display_name": "Python 3",
   "language": "python",
   "name": "python3"
  },
  "language_info": {
   "codemirror_mode": {
    "name": "ipython",
    "version": 3
   },
   "file_extension": ".py",
   "mimetype": "text/x-python",
   "name": "python",
   "nbconvert_exporter": "python",
   "pygments_lexer": "ipython3",
   "version": "3.6.2"
  }
 },
 "nbformat": 4,
 "nbformat_minor": 2
}
